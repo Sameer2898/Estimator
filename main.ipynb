{
 "cells": [
  {
   "cell_type": "markdown",
   "id": "valuable-march",
   "metadata": {},
   "source": [
    "## Created By:- Sameer Goel\n",
    "## Created On:- 11-04-2021\n",
    "## Language Used:- Python\n",
    "## IDE Used:- Jupyter Notebook\n",
    "## Purpose:- To predict the price of the used car on the basis of some features\n",
    "## Algorithm Used:- Linear Regression"
   ]
  },
  {
   "cell_type": "code",
   "execution_count": 1,
   "id": "assisted-garlic",
   "metadata": {},
   "outputs": [],
   "source": [
    "# Import the important libraries\n",
    "import pickle\n",
    "import pandas as pd\n",
    "import numpy as np\n",
    "from sklearn.model_selection import train_test_split\n",
    "from sklearn.linear_model import LinearRegression\n",
    "from sklearn.preprocessing import OneHotEncoder\n",
    "from sklearn.compose import make_column_transformer\n",
    "from sklearn.pipeline import make_pipeline\n",
    "from sklearn.metrics import r2_score"
   ]
  },
  {
   "cell_type": "code",
   "execution_count": 2,
   "id": "several-accountability",
   "metadata": {},
   "outputs": [],
   "source": [
    "# Read the data\n",
    "df = pd.read_csv('car.csv')"
   ]
  },
  {
   "cell_type": "code",
   "execution_count": 3,
   "id": "increased-white",
   "metadata": {},
   "outputs": [
    {
     "data": {
      "text/html": [
       "<div>\n",
       "<style scoped>\n",
       "    .dataframe tbody tr th:only-of-type {\n",
       "        vertical-align: middle;\n",
       "    }\n",
       "\n",
       "    .dataframe tbody tr th {\n",
       "        vertical-align: top;\n",
       "    }\n",
       "\n",
       "    .dataframe thead th {\n",
       "        text-align: right;\n",
       "    }\n",
       "</style>\n",
       "<table border=\"1\" class=\"dataframe\">\n",
       "  <thead>\n",
       "    <tr style=\"text-align: right;\">\n",
       "      <th></th>\n",
       "      <th>name</th>\n",
       "      <th>company</th>\n",
       "      <th>year</th>\n",
       "      <th>Price</th>\n",
       "      <th>kms_driven</th>\n",
       "      <th>fuel_type</th>\n",
       "    </tr>\n",
       "  </thead>\n",
       "  <tbody>\n",
       "    <tr>\n",
       "      <th>0</th>\n",
       "      <td>Hyundai Santro Xing XO eRLX Euro III</td>\n",
       "      <td>Hyundai</td>\n",
       "      <td>2007</td>\n",
       "      <td>80,000</td>\n",
       "      <td>45,000 kms</td>\n",
       "      <td>Petrol</td>\n",
       "    </tr>\n",
       "    <tr>\n",
       "      <th>1</th>\n",
       "      <td>Mahindra Jeep CL550 MDI</td>\n",
       "      <td>Mahindra</td>\n",
       "      <td>2006</td>\n",
       "      <td>4,25,000</td>\n",
       "      <td>40 kms</td>\n",
       "      <td>Diesel</td>\n",
       "    </tr>\n",
       "    <tr>\n",
       "      <th>2</th>\n",
       "      <td>Maruti Suzuki Alto 800 Vxi</td>\n",
       "      <td>Maruti</td>\n",
       "      <td>2018</td>\n",
       "      <td>Ask For Price</td>\n",
       "      <td>22,000 kms</td>\n",
       "      <td>Petrol</td>\n",
       "    </tr>\n",
       "    <tr>\n",
       "      <th>3</th>\n",
       "      <td>Hyundai Grand i10 Magna 1.2 Kappa VTVT</td>\n",
       "      <td>Hyundai</td>\n",
       "      <td>2014</td>\n",
       "      <td>3,25,000</td>\n",
       "      <td>28,000 kms</td>\n",
       "      <td>Petrol</td>\n",
       "    </tr>\n",
       "    <tr>\n",
       "      <th>4</th>\n",
       "      <td>Ford EcoSport Titanium 1.5L TDCi</td>\n",
       "      <td>Ford</td>\n",
       "      <td>2014</td>\n",
       "      <td>5,75,000</td>\n",
       "      <td>36,000 kms</td>\n",
       "      <td>Diesel</td>\n",
       "    </tr>\n",
       "  </tbody>\n",
       "</table>\n",
       "</div>"
      ],
      "text/plain": [
       "                                     name   company  year          Price  \\\n",
       "0    Hyundai Santro Xing XO eRLX Euro III   Hyundai  2007         80,000   \n",
       "1                 Mahindra Jeep CL550 MDI  Mahindra  2006       4,25,000   \n",
       "2              Maruti Suzuki Alto 800 Vxi    Maruti  2018  Ask For Price   \n",
       "3  Hyundai Grand i10 Magna 1.2 Kappa VTVT   Hyundai  2014       3,25,000   \n",
       "4        Ford EcoSport Titanium 1.5L TDCi      Ford  2014       5,75,000   \n",
       "\n",
       "   kms_driven fuel_type  \n",
       "0  45,000 kms    Petrol  \n",
       "1      40 kms    Diesel  \n",
       "2  22,000 kms    Petrol  \n",
       "3  28,000 kms    Petrol  \n",
       "4  36,000 kms    Diesel  "
      ]
     },
     "execution_count": 3,
     "metadata": {},
     "output_type": "execute_result"
    }
   ],
   "source": [
    "# Check the first five rows of the data\n",
    "df.head()"
   ]
  },
  {
   "cell_type": "code",
   "execution_count": 4,
   "id": "cathedral-business",
   "metadata": {},
   "outputs": [
    {
     "data": {
      "text/html": [
       "<div>\n",
       "<style scoped>\n",
       "    .dataframe tbody tr th:only-of-type {\n",
       "        vertical-align: middle;\n",
       "    }\n",
       "\n",
       "    .dataframe tbody tr th {\n",
       "        vertical-align: top;\n",
       "    }\n",
       "\n",
       "    .dataframe thead th {\n",
       "        text-align: right;\n",
       "    }\n",
       "</style>\n",
       "<table border=\"1\" class=\"dataframe\">\n",
       "  <thead>\n",
       "    <tr style=\"text-align: right;\">\n",
       "      <th></th>\n",
       "      <th>name</th>\n",
       "      <th>company</th>\n",
       "      <th>year</th>\n",
       "      <th>Price</th>\n",
       "      <th>kms_driven</th>\n",
       "      <th>fuel_type</th>\n",
       "    </tr>\n",
       "  </thead>\n",
       "  <tbody>\n",
       "    <tr>\n",
       "      <th>887</th>\n",
       "      <td>Ta</td>\n",
       "      <td>Tara</td>\n",
       "      <td>zest</td>\n",
       "      <td>3,10,000</td>\n",
       "      <td>NaN</td>\n",
       "      <td>NaN</td>\n",
       "    </tr>\n",
       "    <tr>\n",
       "      <th>888</th>\n",
       "      <td>Tata Zest XM Diesel</td>\n",
       "      <td>Tata</td>\n",
       "      <td>2018</td>\n",
       "      <td>2,60,000</td>\n",
       "      <td>27,000 kms</td>\n",
       "      <td>Diesel</td>\n",
       "    </tr>\n",
       "    <tr>\n",
       "      <th>889</th>\n",
       "      <td>Mahindra Quanto C8</td>\n",
       "      <td>Mahindra</td>\n",
       "      <td>2013</td>\n",
       "      <td>3,90,000</td>\n",
       "      <td>40,000 kms</td>\n",
       "      <td>Diesel</td>\n",
       "    </tr>\n",
       "    <tr>\n",
       "      <th>890</th>\n",
       "      <td>Honda Amaze 1.2 E i VTEC</td>\n",
       "      <td>Honda</td>\n",
       "      <td>2014</td>\n",
       "      <td>1,80,000</td>\n",
       "      <td>Petrol</td>\n",
       "      <td>NaN</td>\n",
       "    </tr>\n",
       "    <tr>\n",
       "      <th>891</th>\n",
       "      <td>Chevrolet Sail 1.2 LT ABS</td>\n",
       "      <td>Chevrolet</td>\n",
       "      <td>2014</td>\n",
       "      <td>1,60,000</td>\n",
       "      <td>Petrol</td>\n",
       "      <td>NaN</td>\n",
       "    </tr>\n",
       "  </tbody>\n",
       "</table>\n",
       "</div>"
      ],
      "text/plain": [
       "                          name    company  year     Price  kms_driven  \\\n",
       "887                         Ta       Tara  zest  3,10,000         NaN   \n",
       "888        Tata Zest XM Diesel       Tata  2018  2,60,000  27,000 kms   \n",
       "889         Mahindra Quanto C8   Mahindra  2013  3,90,000  40,000 kms   \n",
       "890   Honda Amaze 1.2 E i VTEC      Honda  2014  1,80,000      Petrol   \n",
       "891  Chevrolet Sail 1.2 LT ABS  Chevrolet  2014  1,60,000      Petrol   \n",
       "\n",
       "    fuel_type  \n",
       "887       NaN  \n",
       "888    Diesel  \n",
       "889    Diesel  \n",
       "890       NaN  \n",
       "891       NaN  "
      ]
     },
     "execution_count": 4,
     "metadata": {},
     "output_type": "execute_result"
    }
   ],
   "source": [
    "# Check the last five rows of the data\n",
    "df.tail()"
   ]
  },
  {
   "cell_type": "code",
   "execution_count": 5,
   "id": "brutal-angel",
   "metadata": {},
   "outputs": [
    {
     "data": {
      "text/plain": [
       "(892, 6)"
      ]
     },
     "execution_count": 5,
     "metadata": {},
     "output_type": "execute_result"
    }
   ],
   "source": [
    "# Check the shape of the data\n",
    "df.shape"
   ]
  },
  {
   "cell_type": "code",
   "execution_count": 6,
   "id": "prompt-induction",
   "metadata": {},
   "outputs": [
    {
     "name": "stdout",
     "output_type": "stream",
     "text": [
      "<class 'pandas.core.frame.DataFrame'>\n",
      "RangeIndex: 892 entries, 0 to 891\n",
      "Data columns (total 6 columns):\n",
      " #   Column      Non-Null Count  Dtype \n",
      "---  ------      --------------  ----- \n",
      " 0   name        892 non-null    object\n",
      " 1   company     892 non-null    object\n",
      " 2   year        892 non-null    object\n",
      " 3   Price       892 non-null    object\n",
      " 4   kms_driven  840 non-null    object\n",
      " 5   fuel_type   837 non-null    object\n",
      "dtypes: object(6)\n",
      "memory usage: 41.9+ KB\n"
     ]
    }
   ],
   "source": [
    "# Check the information of the data before performing the cleaning operations on the data\n",
    "df.info()"
   ]
  },
  {
   "cell_type": "code",
   "execution_count": 7,
   "id": "worst-empty",
   "metadata": {},
   "outputs": [],
   "source": [
    "# Handle the missing values form the data and clean our dataset\n",
    "\n",
    "# Year\n",
    "df = df[df['year'].str.isnumeric()]\n",
    "df['year'] = df['year'].astype(int)\n",
    "\n",
    "# Price\n",
    "df = df[df['Price'] != 'Ask For Price']\n",
    "df['Price'] = df['Price'].str.replace(',','').astype(int)\n",
    "\n",
    "# Kilometer Driven\n",
    "df['kms_driven'] = df['kms_driven'].str.split().str.get(0).str.replace(',','')\n",
    "df = df[df['kms_driven'].str.isnumeric()]\n",
    "df['kms_driven'] = df['kms_driven'].astype(int)\n",
    "\n",
    "# fuel type \n",
    "df = df[~df['fuel_type'].isna()]\n",
    "\n",
    "# Taking only first two values from name \n",
    "# For example converting Hyundai Santro Xing XO eRLX Euro III to Hyuandai Santro Xing\n",
    "df['name'] = df['name'].str.split().str.slice(0, 3).str.join(' ')\n",
    "\n",
    "# Set the index value because after cleaning the data the index is chaged like some values of index are missing\n",
    "df = df.reset_index(drop = True)"
   ]
  },
  {
   "cell_type": "code",
   "execution_count": 8,
   "id": "tired-leader",
   "metadata": {},
   "outputs": [
    {
     "name": "stdout",
     "output_type": "stream",
     "text": [
      "<class 'pandas.core.frame.DataFrame'>\n",
      "RangeIndex: 816 entries, 0 to 815\n",
      "Data columns (total 6 columns):\n",
      " #   Column      Non-Null Count  Dtype \n",
      "---  ------      --------------  ----- \n",
      " 0   name        816 non-null    object\n",
      " 1   company     816 non-null    object\n",
      " 2   year        816 non-null    int32 \n",
      " 3   Price       816 non-null    int32 \n",
      " 4   kms_driven  816 non-null    int32 \n",
      " 5   fuel_type   816 non-null    object\n",
      "dtypes: int32(3), object(3)\n",
      "memory usage: 28.8+ KB\n"
     ]
    }
   ],
   "source": [
    "# Check the information of the data after performing the cleaning operations on the data\n",
    "df.info()"
   ]
  },
  {
   "cell_type": "code",
   "execution_count": 9,
   "id": "normal-annex",
   "metadata": {},
   "outputs": [
    {
     "data": {
      "text/html": [
       "<div>\n",
       "<style scoped>\n",
       "    .dataframe tbody tr th:only-of-type {\n",
       "        vertical-align: middle;\n",
       "    }\n",
       "\n",
       "    .dataframe tbody tr th {\n",
       "        vertical-align: top;\n",
       "    }\n",
       "\n",
       "    .dataframe thead th {\n",
       "        text-align: right;\n",
       "    }\n",
       "</style>\n",
       "<table border=\"1\" class=\"dataframe\">\n",
       "  <thead>\n",
       "    <tr style=\"text-align: right;\">\n",
       "      <th></th>\n",
       "      <th>year</th>\n",
       "      <th>Price</th>\n",
       "      <th>kms_driven</th>\n",
       "    </tr>\n",
       "  </thead>\n",
       "  <tbody>\n",
       "    <tr>\n",
       "      <th>count</th>\n",
       "      <td>816.000000</td>\n",
       "      <td>8.160000e+02</td>\n",
       "      <td>816.000000</td>\n",
       "    </tr>\n",
       "    <tr>\n",
       "      <th>mean</th>\n",
       "      <td>2012.444853</td>\n",
       "      <td>4.117176e+05</td>\n",
       "      <td>46275.531863</td>\n",
       "    </tr>\n",
       "    <tr>\n",
       "      <th>std</th>\n",
       "      <td>4.002992</td>\n",
       "      <td>4.751844e+05</td>\n",
       "      <td>34297.428044</td>\n",
       "    </tr>\n",
       "    <tr>\n",
       "      <th>min</th>\n",
       "      <td>1995.000000</td>\n",
       "      <td>3.000000e+04</td>\n",
       "      <td>0.000000</td>\n",
       "    </tr>\n",
       "    <tr>\n",
       "      <th>25%</th>\n",
       "      <td>2010.000000</td>\n",
       "      <td>1.750000e+05</td>\n",
       "      <td>27000.000000</td>\n",
       "    </tr>\n",
       "    <tr>\n",
       "      <th>50%</th>\n",
       "      <td>2013.000000</td>\n",
       "      <td>2.999990e+05</td>\n",
       "      <td>41000.000000</td>\n",
       "    </tr>\n",
       "    <tr>\n",
       "      <th>75%</th>\n",
       "      <td>2015.000000</td>\n",
       "      <td>4.912500e+05</td>\n",
       "      <td>56818.500000</td>\n",
       "    </tr>\n",
       "    <tr>\n",
       "      <th>max</th>\n",
       "      <td>2019.000000</td>\n",
       "      <td>8.500003e+06</td>\n",
       "      <td>400000.000000</td>\n",
       "    </tr>\n",
       "  </tbody>\n",
       "</table>\n",
       "</div>"
      ],
      "text/plain": [
       "              year         Price     kms_driven\n",
       "count   816.000000  8.160000e+02     816.000000\n",
       "mean   2012.444853  4.117176e+05   46275.531863\n",
       "std       4.002992  4.751844e+05   34297.428044\n",
       "min    1995.000000  3.000000e+04       0.000000\n",
       "25%    2010.000000  1.750000e+05   27000.000000\n",
       "50%    2013.000000  2.999990e+05   41000.000000\n",
       "75%    2015.000000  4.912500e+05   56818.500000\n",
       "max    2019.000000  8.500003e+06  400000.000000"
      ]
     },
     "execution_count": 9,
     "metadata": {},
     "output_type": "execute_result"
    }
   ],
   "source": [
    "# Check the description of the data\n",
    "df.describe()"
   ]
  },
  {
   "cell_type": "code",
   "execution_count": 10,
   "id": "geological-manual",
   "metadata": {},
   "outputs": [],
   "source": [
    "# Took only those cars whose price is less than 60 Lakh\n",
    "df = df[df['Price'] < 6000000]"
   ]
  },
  {
   "cell_type": "code",
   "execution_count": 11,
   "id": "pretty-genre",
   "metadata": {},
   "outputs": [],
   "source": [
    "# Save the cleaned data into a new file called cleaned_data.csv\n",
    "df.to_csv('cleaned_data.csv')"
   ]
  },
  {
   "cell_type": "code",
   "execution_count": 12,
   "id": "convertible-finish",
   "metadata": {},
   "outputs": [
    {
     "name": "stdout",
     "output_type": "stream",
     "text": [
      "We have 25 car companies avaliable and the name of the compaines are:-\n",
      "['Hyundai' 'Mahindra' 'Ford' 'Maruti' 'Skoda' 'Audi' 'Toyota' 'Renault'\n",
      " 'Honda' 'Datsun' 'Mitsubishi' 'Tata' 'Volkswagen' 'Chevrolet' 'Mini'\n",
      " 'BMW' 'Nissan' 'Hindustan' 'Fiat' 'Force' 'Mercedes' 'Land' 'Jaguar'\n",
      " 'Jeep' 'Volvo']\n"
     ]
    }
   ],
   "source": [
    "# Check all the companies of cars avaliable \n",
    "companies = df['company'].unique()\n",
    "print(f'We have {len(companies)} car companies avaliable and the name of the compaines are:-\\n{companies}')"
   ]
  },
  {
   "cell_type": "code",
   "execution_count": 13,
   "id": "seasonal-dragon",
   "metadata": {},
   "outputs": [
    {
     "name": "stdout",
     "output_type": "stream",
     "text": [
      "Independent Variables:-\n",
      "                       name   company  year  kms_driven fuel_type\n",
      "0       Hyundai Santro Xing   Hyundai  2007       45000    Petrol\n",
      "1       Mahindra Jeep CL550  Mahindra  2006          40    Diesel\n",
      "2         Hyundai Grand i10   Hyundai  2014       28000    Petrol\n",
      "3    Ford EcoSport Titanium      Ford  2014       36000    Diesel\n",
      "4                 Ford Figo      Ford  2012       41000    Diesel\n",
      "..                      ...       ...   ...         ...       ...\n",
      "811      Maruti Suzuki Ritz    Maruti  2011       50000    Petrol\n",
      "812          Tata Indica V2      Tata  2009       30000    Diesel\n",
      "813    Toyota Corolla Altis    Toyota  2009      132000    Petrol\n",
      "814            Tata Zest XM      Tata  2018       27000    Diesel\n",
      "815      Mahindra Quanto C8  Mahindra  2013       40000    Diesel\n",
      "\n",
      "[815 rows x 5 columns]\n",
      "\n",
      "\n",
      "Dependent Variable:-\n",
      "0       80000\n",
      "1      425000\n",
      "2      325000\n",
      "3      575000\n",
      "4      175000\n",
      "        ...  \n",
      "811    270000\n",
      "812    110000\n",
      "813    300000\n",
      "814    260000\n",
      "815    390000\n",
      "Name: Price, Length: 815, dtype: int32\n"
     ]
    }
   ],
   "source": [
    "# Seprate the independent and dependent i.e Price and other factors(name, company, year, kms_drive, fuel_type)\n",
    "x = df[['name', 'company', 'year', 'kms_driven', 'fuel_type']]\n",
    "y = df['Price']\n",
    "print(f'Independent Variables:-\\n{x}')\n",
    "print(f'\\n\\nDependent Variable:-\\n{y}')"
   ]
  },
  {
   "cell_type": "code",
   "execution_count": 14,
   "id": "similar-brain",
   "metadata": {},
   "outputs": [
    {
     "name": "stdout",
     "output_type": "stream",
     "text": [
      "X Train:-\n",
      "                    name   company  year  kms_driven fuel_type\n",
      "420      Honda Amaze 1.5     Honda  2016      160000    Diesel\n",
      "722      Ford Fusion 1.4      Ford  2007       85455    Diesel\n",
      "150   Maruti Suzuki Alto    Maruti  2018        3000    Petrol\n",
      "347      Mahindra XUV500  Mahindra  2015       15000    Diesel\n",
      "100  Maruti Suzuki Swift    Maruti  2013       13349    Petrol\n",
      "..                   ...       ...   ...         ...       ...\n",
      "121   Maruti Suzuki Alto    Maruti  2017        5600    Petrol\n",
      "410  Toyota Fortuner 3.0    Toyota  2010      131000    Diesel\n",
      "185    Maruti Suzuki Zen    Maruti  2000       60000    Petrol\n",
      "393    Maruti Suzuki Zen    Maruti  2001       40000    Petrol\n",
      "49   Maruti Suzuki Swift    Maruti  2014       35522    Diesel\n",
      "\n",
      "[652 rows x 5 columns]\n",
      "\n",
      "\n",
      "Y Train:-\n",
      "420     240000\n",
      "722     125000\n",
      "150     310000\n",
      "347    1000000\n",
      "100     372000\n",
      "        ...   \n",
      "121     350000\n",
      "410     940000\n",
      "185      55000\n",
      "393      40000\n",
      "49      385000\n",
      "Name: Price, Length: 652, dtype: int32\n",
      "\n",
      "\n",
      "Y Test:-\n",
      "                         name     company  year  kms_driven fuel_type\n",
      "64   Volkswagen Polo Highline  Volkswagen  2014       60000    Petrol\n",
      "744         Chevrolet Beat LS   Chevrolet  2014       31000    Diesel\n",
      "76              Mini Cooper S        Mini  2013       13500    Petrol\n",
      "706        Maruti Suzuki Alto      Maruti  2015       50000    Petrol\n",
      "665       Maruti Suzuki Swift      Maruti  2016       51000    Diesel\n",
      "..                        ...         ...   ...         ...       ...\n",
      "459       Toyota Fortuner 3.0      Toyota  2015      120000    Diesel\n",
      "362         Hyundai i10 Magna     Hyundai  2011       45000    Petrol\n",
      "536        Maruti Suzuki Alto      Maruti  2014       37000    Petrol\n",
      "678         Audi A3 Cabriolet        Audi  2015       12516    Petrol\n",
      "356      Skoda Rapid Elegance       Skoda  2013       48000    Diesel\n",
      "\n",
      "[163 rows x 5 columns]\n",
      "\n",
      "\n",
      "Y Test:-\n",
      "64      315000\n",
      "744     189000\n",
      "76     1891111\n",
      "706     215000\n",
      "665     499000\n",
      "        ...   \n",
      "459    1525000\n",
      "362     175000\n",
      "536     199000\n",
      "678    3100000\n",
      "356     340000\n",
      "Name: Price, Length: 163, dtype: int32\n"
     ]
    }
   ],
   "source": [
    "# Spliting our data into train and test part\n",
    "x_train, x_test, y_train, y_test = train_test_split(x, y, test_size=0.2, random_state=655)\n",
    "print(f'X Train:-\\n{x_train}')\n",
    "print(f'\\n\\nY Train:-\\n{y_train}')\n",
    "print(f'\\n\\nY Test:-\\n{x_test}')\n",
    "print(f'\\n\\nY Test:-\\n{y_test}')"
   ]
  },
  {
   "cell_type": "code",
   "execution_count": 15,
   "id": "expressed-homework",
   "metadata": {},
   "outputs": [
    {
     "name": "stdout",
     "output_type": "stream",
     "text": [
      "Categorical Features:-\n",
      "[array(['Audi A3 Cabriolet', 'Audi A4 1.8', 'Audi A4 2.0', 'Audi A6 2.0',\n",
      "       'Audi A8', 'Audi Q3 2.0', 'Audi Q5 2.0', 'Audi Q7', 'BMW 3 Series',\n",
      "       'BMW 5 Series', 'BMW 7 Series', 'BMW X1', 'BMW X1 sDrive20d',\n",
      "       'BMW X1 xDrive20d', 'Chevrolet Beat', 'Chevrolet Beat Diesel',\n",
      "       'Chevrolet Beat LS', 'Chevrolet Beat LT', 'Chevrolet Beat PS',\n",
      "       'Chevrolet Cruze LTZ', 'Chevrolet Enjoy', 'Chevrolet Enjoy 1.4',\n",
      "       'Chevrolet Sail 1.2', 'Chevrolet Sail UVA', 'Chevrolet Spark',\n",
      "       'Chevrolet Spark 1.0', 'Chevrolet Spark LS', 'Chevrolet Spark LT',\n",
      "       'Chevrolet Tavera LS', 'Chevrolet Tavera Neo', 'Datsun GO T',\n",
      "       'Datsun Go Plus', 'Datsun Redi GO', 'Fiat Linea Emotion',\n",
      "       'Fiat Petra ELX', 'Fiat Punto Emotion', 'Force Motors Force',\n",
      "       'Force Motors One', 'Ford EcoSport', 'Ford EcoSport Ambiente',\n",
      "       'Ford EcoSport Titanium', 'Ford EcoSport Trend',\n",
      "       'Ford Endeavor 4x4', 'Ford Fiesta', 'Ford Fiesta SXi', 'Ford Figo',\n",
      "       'Ford Figo Diesel', 'Ford Figo Duratorq', 'Ford Figo Petrol',\n",
      "       'Ford Fusion 1.4', 'Ford Ikon 1.3', 'Ford Ikon 1.6',\n",
      "       'Hindustan Motors Ambassador', 'Honda Accord', 'Honda Amaze',\n",
      "       'Honda Amaze 1.2', 'Honda Amaze 1.5', 'Honda Brio', 'Honda Brio V',\n",
      "       'Honda Brio VX', 'Honda City', 'Honda City 1.5', 'Honda City SV',\n",
      "       'Honda City VX', 'Honda City ZX', 'Honda Jazz S', 'Honda Jazz VX',\n",
      "       'Honda Mobilio', 'Honda Mobilio S', 'Honda WR V', 'Hyundai Accent',\n",
      "       'Hyundai Accent Executive', 'Hyundai Accent GLE',\n",
      "       'Hyundai Accent GLX', 'Hyundai Creta', 'Hyundai Creta 1.6',\n",
      "       'Hyundai Elantra 1.8', 'Hyundai Elantra SX', 'Hyundai Elite i20',\n",
      "       'Hyundai Eon', 'Hyundai Eon D', 'Hyundai Eon Era',\n",
      "       'Hyundai Eon Magna', 'Hyundai Eon Sportz', 'Hyundai Fluidic Verna',\n",
      "       'Hyundai Getz', 'Hyundai Getz GLE', 'Hyundai Getz Prime',\n",
      "       'Hyundai Grand i10', 'Hyundai Santro', 'Hyundai Santro AE',\n",
      "       'Hyundai Santro Xing', 'Hyundai Sonata Transform', 'Hyundai Verna',\n",
      "       'Hyundai Verna 1.4', 'Hyundai Verna 1.6', 'Hyundai Verna Fluidic',\n",
      "       'Hyundai Verna Transform', 'Hyundai Verna VGT',\n",
      "       'Hyundai Xcent Base', 'Hyundai Xcent SX', 'Hyundai i10',\n",
      "       'Hyundai i10 Era', 'Hyundai i10 Magna', 'Hyundai i10 Sportz',\n",
      "       'Hyundai i20', 'Hyundai i20 Active', 'Hyundai i20 Asta',\n",
      "       'Hyundai i20 Magna', 'Hyundai i20 Select', 'Hyundai i20 Sportz',\n",
      "       'Jaguar XE XE', 'Jaguar XF 2.2', 'Jeep Wrangler Unlimited',\n",
      "       'Land Rover Freelander', 'Mahindra Bolero DI',\n",
      "       'Mahindra Bolero Power', 'Mahindra Bolero SLE',\n",
      "       'Mahindra Jeep CL550', 'Mahindra Jeep MM', 'Mahindra KUV100',\n",
      "       'Mahindra KUV100 K8', 'Mahindra Logan', 'Mahindra Logan Diesel',\n",
      "       'Mahindra Quanto C4', 'Mahindra Quanto C8', 'Mahindra Scorpio',\n",
      "       'Mahindra Scorpio 2.6', 'Mahindra Scorpio LX',\n",
      "       'Mahindra Scorpio S10', 'Mahindra Scorpio S4',\n",
      "       'Mahindra Scorpio SLE', 'Mahindra Scorpio SLX',\n",
      "       'Mahindra Scorpio VLX', 'Mahindra Scorpio Vlx',\n",
      "       'Mahindra Scorpio W', 'Mahindra TUV300 T4', 'Mahindra TUV300 T8',\n",
      "       'Mahindra Thar CRDe', 'Mahindra XUV500', 'Mahindra XUV500 W10',\n",
      "       'Mahindra XUV500 W6', 'Mahindra XUV500 W8', 'Mahindra Xylo D2',\n",
      "       'Mahindra Xylo E4', 'Mahindra Xylo E8', 'Maruti Suzuki 800',\n",
      "       'Maruti Suzuki A', 'Maruti Suzuki Alto', 'Maruti Suzuki Baleno',\n",
      "       'Maruti Suzuki Celerio', 'Maruti Suzuki Ciaz',\n",
      "       'Maruti Suzuki Dzire', 'Maruti Suzuki Eeco',\n",
      "       'Maruti Suzuki Ertiga', 'Maruti Suzuki Esteem',\n",
      "       'Maruti Suzuki Estilo', 'Maruti Suzuki Maruti',\n",
      "       'Maruti Suzuki Omni', 'Maruti Suzuki Ritz', 'Maruti Suzuki S',\n",
      "       'Maruti Suzuki SX4', 'Maruti Suzuki Stingray',\n",
      "       'Maruti Suzuki Swift', 'Maruti Suzuki Versa',\n",
      "       'Maruti Suzuki Vitara', 'Maruti Suzuki Wagon', 'Maruti Suzuki Zen',\n",
      "       'Mercedes Benz A', 'Mercedes Benz B', 'Mercedes Benz C',\n",
      "       'Mercedes Benz GLA', 'Mini Cooper S', 'Mitsubishi Lancer 1.8',\n",
      "       'Mitsubishi Pajero Sport', 'Nissan Micra XL', 'Nissan Micra XV',\n",
      "       'Nissan Sunny', 'Nissan Sunny XL', 'Nissan Terrano XL',\n",
      "       'Nissan X Trail', 'Renault Duster', 'Renault Duster 110',\n",
      "       'Renault Duster 110PS', 'Renault Duster 85', 'Renault Duster 85PS',\n",
      "       'Renault Duster RxL', 'Renault Kwid', 'Renault Kwid 1.0',\n",
      "       'Renault Kwid RXT', 'Renault Lodgy 85', 'Renault Scala RxL',\n",
      "       'Skoda Fabia', 'Skoda Fabia 1.2L', 'Skoda Fabia Classic',\n",
      "       'Skoda Laura', 'Skoda Octavia Classic', 'Skoda Rapid Elegance',\n",
      "       'Skoda Superb 1.8', 'Skoda Yeti Ambition', 'Tata Aria Pleasure',\n",
      "       'Tata Bolt XM', 'Tata Indica', 'Tata Indica V2', 'Tata Indica eV2',\n",
      "       'Tata Indigo CS', 'Tata Indigo LS', 'Tata Indigo LX',\n",
      "       'Tata Indigo Marina', 'Tata Indigo eCS', 'Tata Manza',\n",
      "       'Tata Manza Aqua', 'Tata Manza Aura', 'Tata Manza ELAN',\n",
      "       'Tata Nano', 'Tata Nano Cx', 'Tata Nano GenX', 'Tata Nano LX',\n",
      "       'Tata Nano Lx', 'Tata Sumo Gold', 'Tata Sumo Grande',\n",
      "       'Tata Sumo Victa', 'Tata Tiago Revotorq', 'Tata Tiago Revotron',\n",
      "       'Tata Tigor Revotron', 'Tata Venture EX', 'Tata Vista Quadrajet',\n",
      "       'Tata Zest Quadrajet', 'Tata Zest XE', 'Tata Zest XM',\n",
      "       'Toyota Corolla', 'Toyota Corolla Altis', 'Toyota Corolla H2',\n",
      "       'Toyota Etios', 'Toyota Etios G', 'Toyota Etios GD',\n",
      "       'Toyota Etios Liva', 'Toyota Fortuner', 'Toyota Fortuner 3.0',\n",
      "       'Toyota Innova 2.0', 'Toyota Innova 2.5', 'Toyota Qualis',\n",
      "       'Volkswagen Jetta Comfortline', 'Volkswagen Jetta Highline',\n",
      "       'Volkswagen Passat Diesel', 'Volkswagen Polo',\n",
      "       'Volkswagen Polo Comfortline', 'Volkswagen Polo Highline',\n",
      "       'Volkswagen Polo Highline1.2L', 'Volkswagen Polo Trendline',\n",
      "       'Volkswagen Vento Comfortline', 'Volkswagen Vento Highline',\n",
      "       'Volkswagen Vento Konekt', 'Volvo S80 Summum'], dtype=object), array(['Audi', 'BMW', 'Chevrolet', 'Datsun', 'Fiat', 'Force', 'Ford',\n",
      "       'Hindustan', 'Honda', 'Hyundai', 'Jaguar', 'Jeep', 'Land',\n",
      "       'Mahindra', 'Maruti', 'Mercedes', 'Mini', 'Mitsubishi', 'Nissan',\n",
      "       'Renault', 'Skoda', 'Tata', 'Toyota', 'Volkswagen', 'Volvo'],\n",
      "      dtype=object), array(['Diesel', 'LPG', 'Petrol'], dtype=object)]\n"
     ]
    }
   ],
   "source": [
    "# Seprate categorical features of our data\n",
    "ohe = OneHotEncoder()\n",
    "ohe.fit(x[['name', 'company', 'fuel_type']])\n",
    "print(f'Categorical Features:-\\n{ohe.categories_}')"
   ]
  },
  {
   "cell_type": "code",
   "execution_count": 16,
   "id": "round-monday",
   "metadata": {},
   "outputs": [],
   "source": [
    "# Concatenate our categorical data\n",
    "column_transformations = make_column_transformer((OneHotEncoder(categories=ohe.categories_), ['name', 'company', 'fuel_type']), remainder='passthrough')"
   ]
  },
  {
   "cell_type": "code",
   "execution_count": 17,
   "id": "existing-complement",
   "metadata": {},
   "outputs": [
    {
     "data": {
      "text/plain": [
       "Pipeline(steps=[('columntransformer',\n",
       "                 ColumnTransformer(remainder='passthrough',\n",
       "                                   transformers=[('onehotencoder',\n",
       "                                                  OneHotEncoder(categories=[array(['Audi A3 Cabriolet', 'Audi A4 1.8', 'Audi A4 2.0', 'Audi A6 2.0',\n",
       "       'Audi A8', 'Audi Q3 2.0', 'Audi Q5 2.0', 'Audi Q7', 'BMW 3 Series',\n",
       "       'BMW 5 Series', 'BMW 7 Series', 'BMW X1', 'BMW X1 sDrive20d',\n",
       "       'BMW X1 xDrive20d', 'Chevrolet Beat', 'Chevrolet Beat...\n",
       "                                                                            array(['Audi', 'BMW', 'Chevrolet', 'Datsun', 'Fiat', 'Force', 'Ford',\n",
       "       'Hindustan', 'Honda', 'Hyundai', 'Jaguar', 'Jeep', 'Land',\n",
       "       'Mahindra', 'Maruti', 'Mercedes', 'Mini', 'Mitsubishi', 'Nissan',\n",
       "       'Renault', 'Skoda', 'Tata', 'Toyota', 'Volkswagen', 'Volvo'],\n",
       "      dtype=object),\n",
       "                                                                            array(['Diesel', 'LPG', 'Petrol'], dtype=object)]),\n",
       "                                                  ['name', 'company',\n",
       "                                                   'fuel_type'])])),\n",
       "                ('linearregression', LinearRegression())])"
      ]
     },
     "execution_count": 17,
     "metadata": {},
     "output_type": "execute_result"
    }
   ],
   "source": [
    "# Train our model\n",
    "lr = LinearRegression()\n",
    "pipelining = make_pipeline(column_transformations, lr)\n",
    "pipelining.fit(x_train, y_train)"
   ]
  },
  {
   "cell_type": "code",
   "execution_count": 18,
   "id": "running-consensus",
   "metadata": {},
   "outputs": [
    {
     "name": "stdout",
     "output_type": "stream",
     "text": [
      "Predictions:-\n",
      "[ 4.93065825e+05  2.00198187e+05  1.89050293e+06  2.26062725e+05\n",
      "  3.54959522e+05  1.35188799e+05  6.25158693e+05  6.67655859e+05\n",
      "  5.23151165e+05  3.96454155e+05  1.26456852e+06  7.81885509e+04\n",
      "  1.29564617e+05  2.31567851e+05  1.87834591e+05  2.81035031e+05\n",
      "  5.78395185e+05  3.03485052e+05  4.27523099e+05  5.66280423e+05\n",
      "  4.38010277e+05  3.05224715e+05  2.34096405e+05  1.50463918e+05\n",
      "  4.37916224e+05  4.53522486e+05  3.00531154e+05  5.12490507e+05\n",
      "  2.80010962e+05  2.91744495e+05  2.29871523e+05  1.71669713e+05\n",
      "  2.90573848e+05  3.65808951e+05  1.54166908e+05  5.38093202e+05\n",
      " -1.51957031e+02  2.63827875e+05  3.37031316e+05  1.58787716e+05\n",
      "  1.89062454e+06  6.80336249e+04  3.74864528e+05  2.57721709e+05\n",
      "  1.71311106e+05  6.70876902e+05  2.43537452e+05  3.78994051e+05\n",
      "  1.58315438e+05 -5.48135554e+03  1.07523164e+06  1.91806989e+05\n",
      "  1.52609336e+06  5.65821275e+05  1.97710558e+05  1.71465324e+05\n",
      "  3.36370264e+05  3.97532203e+04  8.51363724e+05  2.59186787e+05\n",
      "  5.19384147e+05  5.39542149e+05  5.15981163e+04  5.10810769e+05\n",
      "  2.70506341e+05  4.22518195e+05  2.23630721e+05  2.38922886e+05\n",
      "  5.09405602e+04  2.36348276e+05  5.61117756e+05  1.27138571e+05\n",
      "  5.79519272e+05  2.19058720e+05  4.92803650e+05  2.89248914e+05\n",
      "  2.28981130e+05  3.52651532e+04  4.84579555e+05  4.25328079e+05\n",
      "  5.78706072e+05  1.00100519e+06  5.18906660e+05  2.62682927e+05\n",
      "  2.83570290e+05  2.37006743e+05  1.76508238e+05  5.19741345e+05\n",
      "  1.41855126e+06  5.22730871e+05 -2.27876092e+04  5.12784949e+05\n",
      "  2.56294691e+05  2.73548220e+05  2.81035031e+05  1.50399795e+06\n",
      "  5.18451618e+05  7.34235309e+03  3.29278031e+05  2.26856681e+05\n",
      "  1.13520006e+05  2.40618815e+05  6.05287901e+05  2.45107473e+05\n",
      "  2.45285058e+04  3.55312057e+05  1.91116365e+05  8.26923940e+05\n",
      "  3.21407977e+05  3.26416424e+05  2.99085862e+05  4.02698350e+05\n",
      "  4.60883089e+05  1.55931478e+05  5.14475752e+05  3.41213237e+05\n",
      "  2.73985410e+05  3.63702165e+05  5.39031938e+05  5.06988897e+05\n",
      "  4.34882343e+05  4.09670431e+05  1.84121616e+06  7.70952310e+05\n",
      "  1.81751969e+06  3.17654056e+05  4.23671770e+05  2.31461206e+04\n",
      "  4.41050937e+05  3.98450083e+05  2.95336036e+05  7.55615477e+04\n",
      "  1.30165443e+05  5.95282040e+05  1.88385944e+05  1.59796275e+05\n",
      "  2.59497695e+05  2.61856116e+05  4.61602922e+05  3.63138717e+05\n",
      "  1.87668208e+05  5.27327359e+05  2.88010742e+05  5.10081168e+05\n",
      "  3.26144852e+05  3.55991445e+05  1.32983522e+05  9.69176846e+04\n",
      "  2.94771610e+05  6.72236130e+05  5.94834078e+05  3.74966558e+05\n",
      "  3.99809413e+05  4.58937485e+05  1.04423048e+05  1.57553484e+05\n",
      "  3.04140110e+05  5.81074462e+05  1.36697204e+06  3.28376696e+05\n",
      "  2.08689469e+05  1.42509953e+06  3.83644892e+05]\n"
     ]
    }
   ],
   "source": [
    "# Making Predictions\n",
    "predictions = pipelining.predict(x_test)\n",
    "print(f'Predictions:-\\n{predictions}')"
   ]
  },
  {
   "cell_type": "code",
   "execution_count": 19,
   "id": "metropolitan-bidding",
   "metadata": {},
   "outputs": [
    {
     "name": "stdout",
     "output_type": "stream",
     "text": [
      "Accuracy of the model:- 74.07%\n"
     ]
    }
   ],
   "source": [
    "# Check accuracy of the model\n",
    "accuracy = r2_score(y_test, predictions)\n",
    "print(f'Accuracy of the model:- {round(accuracy * 100, 2)}%')"
   ]
  },
  {
   "cell_type": "code",
   "execution_count": 20,
   "id": "noticed-virgin",
   "metadata": {},
   "outputs": [],
   "source": [
    "# Save the model\n",
    "pickle.dump(pipelining, open('model.pkl', 'wb'))"
   ]
  }
 ],
 "metadata": {
  "kernelspec": {
   "display_name": "Python 3",
   "language": "python",
   "name": "python3"
  },
  "language_info": {
   "codemirror_mode": {
    "name": "ipython",
    "version": 3
   },
   "file_extension": ".py",
   "mimetype": "text/x-python",
   "name": "python",
   "nbconvert_exporter": "python",
   "pygments_lexer": "ipython3",
   "version": "3.8.5"
  }
 },
 "nbformat": 4,
 "nbformat_minor": 5
}
